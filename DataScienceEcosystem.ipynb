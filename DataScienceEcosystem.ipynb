{
 "cells": [
  {
   "cell_type": "markdown",
   "id": "37e1c10f-aaae-4ed3-8270-30939faf35ba",
   "metadata": {},
   "source": [
    "# Data Science Tools and Ecosystem"
   ]
  },
  {
   "cell_type": "markdown",
   "id": "4d7920fd-69b0-436f-8235-71f48403f876",
   "metadata": {},
   "source": [
    "## In this notebook, Data Science Tools and Ecosystem are summarized"
   ]
  },
  {
   "cell_type": "markdown",
   "id": "b4c49041-c430-4ee6-ac46-c1bdb455ad01",
   "metadata": {},
   "source": [
    "## Some of the popular languages that Data Scientists use are:\n",
    "**1. Python**\n",
    "\n",
    "**2. SQL**\n",
    "\n",
    "**3. R**\n",
    "\n",
    "**4. Julia**"
   ]
  },
  {
   "cell_type": "markdown",
   "id": "5444ec36-1c7e-41f3-8ad7-2363d89e2c73",
   "metadata": {},
   "source": [
    "## Some of the commonly used libraries used by the Data Scientists include:\n",
    "1. NumPy\n",
    "2. Pandas\n",
    "3. SciPy\n",
    "4. PyTorch\n",
    "5. Scikit-Learn"
   ]
  },
  {
   "cell_type": "markdown",
   "id": "c8366e3a-1b7b-40cc-9b40-9110171416c9",
   "metadata": {},
   "source": [
    "# Data Science Tools"
   ]
  },
  {
   "cell_type": "markdown",
   "id": "226f1fc0-69fe-4b6e-8b63-dec0eb7e102c",
   "metadata": {},
   "source": [
    "### Below are few examples of evaluating arithmetic expressions in python"
   ]
  },
  {
   "cell_type": "code",
   "execution_count": 2,
   "id": "f9b46de1-39a7-43e3-9af4-d2c980526645",
   "metadata": {
    "tags": []
   },
   "outputs": [
    {
     "data": {
      "text/plain": [
       "17"
      ]
     },
     "execution_count": 2,
     "metadata": {},
     "output_type": "execute_result"
    }
   ],
   "source": [
    "#This is a simple arithmetic expression to multiply then add integers\n",
    "(3*4)+5"
   ]
  },
  {
   "cell_type": "code",
   "execution_count": 5,
   "id": "4527e799-9380-4812-b3b0-c648c75a74ff",
   "metadata": {
    "tags": []
   },
   "outputs": [
    {
     "data": {
      "text/plain": [
       "3"
      ]
     },
     "execution_count": 5,
     "metadata": {},
     "output_type": "execute_result"
    }
   ],
   "source": [
    "#This will convert 200 mibnutes to hours by dividing by 60\n",
    "min = 200\n",
    "hours = min//60\n",
    "hours"
   ]
  },
  {
   "cell_type": "markdown",
   "id": "b18f1d44-94b3-44f6-9bba-22705b7f9785",
   "metadata": {},
   "source": [
    "**Objectives:**\n",
    "1. Some of the popular languages in Data Science\n",
    "\n",
    "2. Commonly used libraries by Data Scientists.\n",
    "\n",
    "3. Multiply and add numbers.\n",
    "\n",
    "4. Convert minutes to hours"
   ]
  },
  {
   "cell_type": "markdown",
   "id": "0d4cefc8-a623-4f7e-9c25-2774aaebe0dd",
   "metadata": {},
   "source": [
    "## Author\n",
    "Hemakesh Surla"
   ]
  },
  {
   "cell_type": "code",
   "execution_count": null,
   "id": "7a8c8366-1e78-421c-bbdd-bc2dfc45f46c",
   "metadata": {},
   "outputs": [],
   "source": []
  }
 ],
 "metadata": {
  "kernelspec": {
   "display_name": "Python",
   "language": "python",
   "name": "conda-env-python-py"
  },
  "language_info": {
   "codemirror_mode": {
    "name": "ipython",
    "version": 3
   },
   "file_extension": ".py",
   "mimetype": "text/x-python",
   "name": "python",
   "nbconvert_exporter": "python",
   "pygments_lexer": "ipython3",
   "version": "3.7.12"
  }
 },
 "nbformat": 4,
 "nbformat_minor": 5
}
